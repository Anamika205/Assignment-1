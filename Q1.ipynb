{
 "cells": [
  {
   "cell_type": "code",
   "execution_count": 1,
   "id": "05d2719f",
   "metadata": {},
   "outputs": [
    {
     "name": "stdout",
     "output_type": "stream",
     "text": [
      "Text : ATTACKATONCE\n",
      "Shift : 4\n",
      "Cipher: EXXEGOEXSRGI\n"
     ]
    }
   ],
   "source": [
    "# impliment Additive Cipher \n",
    "def encrypt(text,s):\n",
    "\tresult = \"\"\n",
    "\n",
    "\t# traverse text\n",
    "\tfor i in range(len(text)):\n",
    "\t\tchar = text[i]\n",
    "\n",
    "\t\t# Encrypt uppercase characters\n",
    "\t\tif (char.isupper()):\n",
    "\t\t\tresult += chr((ord(char) + s-65) % 26 + 65)\n",
    "\n",
    "\t\t# Encrypt lowercase characters\n",
    "\t\telse:\n",
    "\t\t\tresult += chr((ord(char) + s - 97) % 26 + 97)\n",
    "\n",
    "\treturn result\n",
    "\n",
    "#check the function\n",
    "text = \"ATTACKATONCE\"\n",
    "s = 4\n",
    "print (\"Text : \" + text)\n",
    "print (\"Shift : \" + str(s))\n",
    "print (\"Cipher: \" + encrypt(text,s))\n"
   ]
  },
  {
   "cell_type": "code",
   "execution_count": null,
   "id": "330cfa62",
   "metadata": {},
   "outputs": [],
   "source": []
  },
  {
   "cell_type": "code",
   "execution_count": null,
   "id": "372cd1f9",
   "metadata": {},
   "outputs": [],
   "source": []
  }
 ],
 "metadata": {
  "kernelspec": {
   "display_name": "Python 3 (ipykernel)",
   "language": "python",
   "name": "python3"
  },
  "language_info": {
   "codemirror_mode": {
    "name": "ipython",
    "version": 3
   },
   "file_extension": ".py",
   "mimetype": "text/x-python",
   "name": "python",
   "nbconvert_exporter": "python",
   "pygments_lexer": "ipython3",
   "version": "3.9.6"
  }
 },
 "nbformat": 4,
 "nbformat_minor": 5
}
