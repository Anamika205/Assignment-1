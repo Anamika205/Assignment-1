{
 "cells": [
  {
   "cell_type": "code",
   "execution_count": 2,
   "id": "2df4d982",
   "metadata": {},
   "outputs": [
    {
     "name": "stdout",
     "output_type": "stream",
     "text": [
      "Encrypted Text: UBBAHKCAPJKX\n",
      "Decrypted Text: AFFINECIPHER\n"
     ]
    }
   ],
   "source": [
    "# Implementation of Affine Cipher in Python\n",
    "\n",
    "# Extended Euclidean Algorithm for finding modular inverse\n",
    "# eg: modinv(7, 26) = 15\n",
    "def egcd(a, b):\n",
    "\tx,y, u,v = 0,1, 1,0\n",
    "\twhile a != 0:\n",
    "\t\tq, r = b//a, b%a\n",
    "\t\tm, n = x-u*q, y-v*q\n",
    "\t\tb,a, x,y, u,v = a,r, u,v, m,n\n",
    "\tgcd = b\n",
    "\treturn gcd, x, y\n",
    "\n",
    "def modinv(a, m):\n",
    "\tgcd, x, y = egcd(a, m)\n",
    "\tif gcd != 1:\n",
    "\t\treturn None # modular inverse does not exist\n",
    "\telse:\n",
    "\t\treturn x % m\n",
    "\n",
    "\n",
    "# affine cipher encryption function\n",
    "# returns the cipher text\n",
    "def affine_encrypt(text, key):\n",
    "\t'''\n",
    "\tC = (a*P + b) % 26\n",
    "\t'''\n",
    "\treturn ''.join([ chr((( key[0]*(ord(t) - ord('A')) + key[1] ) % 26)\n",
    "\t\t\t\t+ ord('A')) for t in text.upper().replace(' ', '') ])\n",
    "\n",
    "\n",
    "# affine cipher decryption function\n",
    "# returns original text\n",
    "def affine_decrypt(cipher, key):\n",
    "\t'''\n",
    "\tP = (a^-1 * (C - b)) % 26\n",
    "\t'''\n",
    "\treturn ''.join([ chr((( modinv(key[0], 26)*(ord(c) - ord('A') - key[1]))\n",
    "\t\t\t\t\t% 26) + ord('A')) for c in cipher ])\n",
    "\n",
    "\n",
    "# Driver Code to test the above functions\n",
    "def main():\n",
    "\t# declaring text and key\n",
    "\ttext = 'AFFINE CIPHER'\n",
    "\tkey = [17, 20]\n",
    "\n",
    "\t# calling encryption function\n",
    "\taffine_encrypted_text = affine_encrypt(text, key)\n",
    "\n",
    "\tprint('Encrypted Text: {}'.format( affine_encrypted_text ))\n",
    "\n",
    "\t# calling decryption function\n",
    "\tprint('Decrypted Text: {}'.format\n",
    "\t( affine_decrypt(affine_encrypted_text, key) ))\n",
    "\n",
    "\n",
    "if __name__ == '__main__':\n",
    "\tmain()\n",
    "\n"
   ]
  },
  {
   "cell_type": "code",
   "execution_count": null,
   "id": "501255a9",
   "metadata": {},
   "outputs": [],
   "source": []
  }
 ],
 "metadata": {
  "kernelspec": {
   "display_name": "Python 3 (ipykernel)",
   "language": "python",
   "name": "python3"
  },
  "language_info": {
   "codemirror_mode": {
    "name": "ipython",
    "version": 3
   },
   "file_extension": ".py",
   "mimetype": "text/x-python",
   "name": "python",
   "nbconvert_exporter": "python",
   "pygments_lexer": "ipython3",
   "version": "3.9.6"
  }
 },
 "nbformat": 4,
 "nbformat_minor": 5
}
